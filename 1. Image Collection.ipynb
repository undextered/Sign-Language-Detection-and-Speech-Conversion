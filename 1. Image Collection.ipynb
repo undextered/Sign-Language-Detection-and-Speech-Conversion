{
 "cells": [
  {
   "cell_type": "markdown",
   "metadata": {},
   "source": [
    "# 1. Import Dependencies"
   ]
  },
  {
   "cell_type": "code",
   "execution_count": 1,
   "metadata": {},
   "outputs": [
    {
     "name": "stdout",
     "output_type": "stream",
     "text": [
      "Requirement already satisfied: opencv-python in d:\\tensorflow object detection\\tfodcourse\\tfod\\lib\\site-packages (4.5.5.64)\n",
      "Requirement already satisfied: numpy>=1.19.3 in d:\\tensorflow object detection\\tfodcourse\\tfod\\lib\\site-packages (from opencv-python) (1.22.3)\n"
     ]
    }
   ],
   "source": [
    "!pip install opencv-python"
   ]
  },
  {
   "cell_type": "code",
   "execution_count": 28,
   "metadata": {},
   "outputs": [],
   "source": [
    "# Import opencv\n",
    "import cv2 \n",
    "\n",
    "# Import uuid\n",
    "import uuid\n",
    "\n",
    "# Import Operating System\n",
    "import os\n",
    "\n",
    "# Import time\n",
    "import time"
   ]
  },
  {
   "cell_type": "markdown",
   "metadata": {},
   "source": [
    "# 2. Define Images to Collect"
   ]
  },
  {
   "cell_type": "code",
   "execution_count": 41,
   "metadata": {},
   "outputs": [],
   "source": [
    "labels = ['hello', 'iloveyou', 'thankyou', 'livelong','yes', 'what','is','your','name','my','a','v','i']\n",
    "number_imgs = 10"
   ]
  },
  {
   "cell_type": "markdown",
   "metadata": {},
   "source": [
    "# 3. Setup Folders "
   ]
  },
  {
   "cell_type": "code",
   "execution_count": 36,
   "metadata": {},
   "outputs": [],
   "source": [
    "IMAGES_PATH = os.path.join('Tensorflow', 'workspace', 'images', 'collectedimages')"
   ]
  },
  {
   "cell_type": "code",
   "execution_count": 31,
   "metadata": {},
   "outputs": [],
   "source": [
    "if not os.path.exists(IMAGES_PATH):\n",
    "    if os.name == 'posix':\n",
    "        !mkdir -p {IMAGES_PATH}\n",
    "    if os.name == 'nt':\n",
    "         !mkdir {IMAGES_PATH}\n",
    "for label in labels:\n",
    "    path = os.path.join(IMAGES_PATH, label)\n",
    "    if not os.path.exists(path):\n",
    "        !mkdir {path}"
   ]
  },
  {
   "cell_type": "markdown",
   "metadata": {},
   "source": [
    "# 4. Capture Images"
   ]
  },
  {
   "cell_type": "code",
   "execution_count": 43,
   "metadata": {
    "scrolled": true
   },
   "outputs": [
    {
     "name": "stdout",
     "output_type": "stream",
     "text": [
      "Collecting images for hello\n",
      "Collecting image 0\n",
      "Collecting image 1\n",
      "Collecting image 2\n",
      "Collecting image 3\n",
      "Collecting image 4\n",
      "Collecting image 5\n",
      "Collecting image 6\n",
      "Collecting image 7\n",
      "Collecting image 8\n",
      "Collecting image 9\n",
      "Collecting images for iloveyou\n",
      "Collecting image 0\n",
      "Collecting image 1\n",
      "Collecting images for thankyou\n",
      "Collecting image 0\n",
      "Collecting images for livelong\n",
      "Collecting image 0\n",
      "Collecting images for yes\n",
      "Collecting image 0\n",
      "Collecting images for what\n",
      "Collecting image 0\n",
      "Collecting images for is\n",
      "Collecting image 0\n",
      "Collecting images for your\n",
      "Collecting image 0\n",
      "Collecting images for name\n",
      "Collecting image 0\n",
      "Collecting images for my\n",
      "Collecting image 0\n",
      "Collecting images for a\n",
      "Collecting image 0\n",
      "Collecting images for v\n",
      "Collecting image 0\n",
      "Collecting images for i\n",
      "Collecting image 0\n"
     ]
    }
   ],
   "source": [
    "for label in labels:\n",
    "    cap = cv2.VideoCapture(2)\n",
    "    print('Collecting images for {}'.format(label))\n",
    "    time.sleep(5)\n",
    "    for imgnum in range(number_imgs):\n",
    "        print('Collecting image {}'.format(imgnum))\n",
    "        ret, frame = cap.read()\n",
    "        \n",
    "        imgname = os.path.join(IMAGES_PATH,label,label+'.'+'{}.jpg'.format(str(uuid.uuid1())))\n",
    "        cv2.imwrite(imgname, frame)\n",
    "        cv2.imshow('frame', frame)\n",
    "        time.sleep(2)\n",
    "\n",
    "        if cv2.waitKey(1) & 0xFF == ord('q'):\n",
    "            break      \n",
    "cap.release()\n",
    "cv2.destroyAllWindows()"
   ]
  },
  {
   "cell_type": "code",
   "execution_count": 49,
   "metadata": {},
   "outputs": [
    {
     "name": "stdout",
     "output_type": "stream",
     "text": [
      "Collecting images for iloveyou\n",
      "Collecting image 0\n",
      "Collecting image 1\n",
      "Collecting image 2\n",
      "Collecting image 3\n",
      "Collecting image 4\n",
      "Collecting image 5\n",
      "Collecting image 6\n",
      "Collecting image 7\n",
      "Collecting image 8\n",
      "Collecting image 9\n"
     ]
    }
   ],
   "source": [
    "cap = cv2.VideoCapture(1)\n",
    "label='iloveyou'\n",
    "print('Collecting images for {}'.format(label))\n",
    "time.sleep(5)\n",
    "for imgnum in range(number_imgs):\n",
    "    print('Collecting image {}'.format(imgnum))\n",
    "    ret, frame = cap.read()\n",
    "        \n",
    "    imgname = os.path.join(IMAGES_PATH,label,label+'.'+'{}.jpg'.format(str(uuid.uuid1())))\n",
    "    cv2.imwrite(imgname, frame)\n",
    "    cv2.imshow('frame', frame)\n",
    "    time.sleep(2)\n",
    "\n",
    "    if cv2.waitKey(1) & 0xFF == ord('q'):\n",
    "        break      \n",
    "cap.release()\n",
    "cv2.destroyAllWindows()"
   ]
  },
  {
   "cell_type": "markdown",
   "metadata": {},
   "source": [
    "# 5. Image Labelling"
   ]
  },
  {
   "cell_type": "code",
   "execution_count": 7,
   "metadata": {},
   "outputs": [
    {
     "name": "stdout",
     "output_type": "stream",
     "text": [
      "Requirement already satisfied: pyqt5 in d:\\tensorflow object detection\\tfodcourse\\tfod\\lib\\site-packages (5.15.6)\n",
      "Requirement already satisfied: lxml in d:\\tensorflow object detection\\tfodcourse\\tfod\\lib\\site-packages (4.8.0)\n",
      "Requirement already satisfied: PyQt5-sip<13,>=12.8 in d:\\tensorflow object detection\\tfodcourse\\tfod\\lib\\site-packages (from pyqt5) (12.9.1)\n",
      "Requirement already satisfied: PyQt5-Qt5>=5.15.2 in d:\\tensorflow object detection\\tfodcourse\\tfod\\lib\\site-packages (from pyqt5) (5.15.2)\n"
     ]
    }
   ],
   "source": [
    "!pip install --upgrade pyqt5 lxml"
   ]
  },
  {
   "cell_type": "code",
   "execution_count": 8,
   "metadata": {},
   "outputs": [],
   "source": [
    "LABELIMG_PATH = os.path.join('Tensorflow', 'labelimg')"
   ]
  },
  {
   "cell_type": "code",
   "execution_count": 9,
   "metadata": {},
   "outputs": [],
   "source": [
    "if not os.path.exists(LABELIMG_PATH):\n",
    "    !mkdir {LABELIMG_PATH}\n",
    "    !git clone https://github.com/tzutalin/labelImg {LABELIMG_PATH}"
   ]
  },
  {
   "cell_type": "code",
   "execution_count": 10,
   "metadata": {},
   "outputs": [],
   "source": [
    "if os.name == 'posix':\n",
    "    !make qt5py3\n",
    "if os.name =='nt':\n",
    "    !cd {LABELIMG_PATH} && pyrcc5 -o libs/resources.py resources.qrc"
   ]
  },
  {
   "cell_type": "code",
   "execution_count": 27,
   "metadata": {},
   "outputs": [
    {
     "name": "stdout",
     "output_type": "stream",
     "text": [
      "Image:D:\\TensorFlow Object Detection\\TFODCourse\\Tensorflow\\workspace\\images\\collectedimages\\a\\a.7a441399-ac5f-11ec-80ed-002b67686745.jpg -> Annotation:D:/TensorFlow Object Detection/TFODCourse/Tensorflow/workspace/images/collectedimages/a/a.7a441399-ac5f-11ec-80ed-002b67686745.xml\n",
      "Image:D:\\TensorFlow Object Detection\\TFODCourse\\Tensorflow\\workspace\\images\\collectedimages\\a\\a.7b78d7cc-ac5f-11ec-ba50-002b67686745.jpg -> Annotation:D:/TensorFlow Object Detection/TFODCourse/Tensorflow/workspace/images/collectedimages/a/a.7b78d7cc-ac5f-11ec-ba50-002b67686745.xml\n",
      "Image:D:\\TensorFlow Object Detection\\TFODCourse\\Tensorflow\\workspace\\images\\collectedimages\\a\\a.7cb110e2-ac5f-11ec-9206-002b67686745.jpg -> Annotation:D:/TensorFlow Object Detection/TFODCourse/Tensorflow/workspace/images/collectedimages/a/a.7cb110e2-ac5f-11ec-9206-002b67686745.xml\n",
      "Image:D:\\TensorFlow Object Detection\\TFODCourse\\Tensorflow\\workspace\\images\\collectedimages\\a\\a.7de6c51d-ac5f-11ec-a6ff-002b67686745.jpg -> Annotation:D:/TensorFlow Object Detection/TFODCourse/Tensorflow/workspace/images/collectedimages/a/a.7de6c51d-ac5f-11ec-a6ff-002b67686745.xml\n",
      "Image:D:\\TensorFlow Object Detection\\TFODCourse\\Tensorflow\\workspace\\images\\collectedimages\\a\\a.7f1b00a5-ac5f-11ec-91fb-002b67686745.jpg -> Annotation:D:/TensorFlow Object Detection/TFODCourse/Tensorflow/workspace/images/collectedimages/a/a.7f1b00a5-ac5f-11ec-91fb-002b67686745.xml\n",
      "Image:D:\\TensorFlow Object Detection\\TFODCourse\\Tensorflow\\workspace\\images\\collectedimages\\a\\a.77d5734c-ac5f-11ec-9f78-002b67686745.jpg -> Annotation:D:/TensorFlow Object Detection/TFODCourse/Tensorflow/workspace/images/collectedimages/a/a.77d5734c-ac5f-11ec-9f78-002b67686745.xml\n",
      "Image:D:\\TensorFlow Object Detection\\TFODCourse\\Tensorflow\\workspace\\images\\collectedimages\\a\\a.756a9dfe-ac5f-11ec-a22e-002b67686745.jpg -> Annotation:D:/TensorFlow Object Detection/TFODCourse/Tensorflow/workspace/images/collectedimages/a/a.756a9dfe-ac5f-11ec-a22e-002b67686745.xml\n",
      "Image:D:\\TensorFlow Object Detection\\TFODCourse\\Tensorflow\\workspace\\images\\collectedimages\\a\\a.769e10cc-ac5f-11ec-8538-002b67686745.jpg -> Annotation:D:/TensorFlow Object Detection/TFODCourse/Tensorflow/workspace/images/collectedimages/a/a.769e10cc-ac5f-11ec-8538-002b67686745.xml\n",
      "Image:D:\\TensorFlow Object Detection\\TFODCourse\\Tensorflow\\workspace\\images\\collectedimages\\a\\a.790d15cd-ac5f-11ec-9b95-002b67686745.jpg -> Annotation:D:/TensorFlow Object Detection/TFODCourse/Tensorflow/workspace/images/collectedimages/a/a.790d15cd-ac5f-11ec-9b95-002b67686745.xml\n",
      "Image:D:\\TensorFlow Object Detection\\TFODCourse\\Tensorflow\\workspace\\images\\collectedimages\\a\\a.7432bff2-ac5f-11ec-afc9-002b67686745.jpg -> Annotation:D:/TensorFlow Object Detection/TFODCourse/Tensorflow/workspace/images/collectedimages/a/a.7432bff2-ac5f-11ec-afc9-002b67686745.xml\n",
      "Image:D:\\TensorFlow Object Detection\\TFODCourse\\Tensorflow\\workspace\\images\\collectedimages\\i\\i.9a749835-ac5f-11ec-809d-002b67686745.jpg -> Annotation:D:/TensorFlow Object Detection/TFODCourse/Tensorflow/workspace/images/collectedimages/i/i.9a749835-ac5f-11ec-809d-002b67686745.xml\n",
      "Image:D:\\TensorFlow Object Detection\\TFODCourse\\Tensorflow\\workspace\\images\\collectedimages\\i\\i.9baa6e57-ac5f-11ec-9d8e-002b67686745.jpg -> Annotation:D:/TensorFlow Object Detection/TFODCourse/Tensorflow/workspace/images/collectedimages/i/i.9baa6e57-ac5f-11ec-9d8e-002b67686745.xml\n",
      "Image:D:\\TensorFlow Object Detection\\TFODCourse\\Tensorflow\\workspace\\images\\collectedimages\\i\\i.9ce34f7a-ac5f-11ec-bc75-002b67686745.jpg -> Annotation:D:/TensorFlow Object Detection/TFODCourse/Tensorflow/workspace/images/collectedimages/i/i.9ce34f7a-ac5f-11ec-bc75-002b67686745.xml\n",
      "Image:D:\\TensorFlow Object Detection\\TFODCourse\\Tensorflow\\workspace\\images\\collectedimages\\i\\i.9e17b18a-ac5f-11ec-8669-002b67686745.jpg -> Annotation:D:/TensorFlow Object Detection/TFODCourse/Tensorflow/workspace/images/collectedimages/i/i.9e17b18a-ac5f-11ec-8669-002b67686745.xml\n",
      "Image:D:\\TensorFlow Object Detection\\TFODCourse\\Tensorflow\\workspace\\images\\collectedimages\\i\\i.9f4ddaf6-ac5f-11ec-94fe-002b67686745.jpg -> Annotation:D:/TensorFlow Object Detection/TFODCourse/Tensorflow/workspace/images/collectedimages/i/i.9f4ddaf6-ac5f-11ec-94fe-002b67686745.xml\n",
      "Image:D:\\TensorFlow Object Detection\\TFODCourse\\Tensorflow\\workspace\\images\\collectedimages\\i\\i.96d08c69-ac5f-11ec-9426-002b67686745.jpg -> Annotation:D:/TensorFlow Object Detection/TFODCourse/Tensorflow/workspace/images/collectedimages/i/i.96d08c69-ac5f-11ec-9426-002b67686745.xml\n",
      "Image:D:\\TensorFlow Object Detection\\TFODCourse\\Tensorflow\\workspace\\images\\collectedimages\\i\\i.98095a39-ac5f-11ec-a4e1-002b67686745.jpg -> Annotation:D:/TensorFlow Object Detection/TFODCourse/Tensorflow/workspace/images/collectedimages/i/i.98095a39-ac5f-11ec-a4e1-002b67686745.xml\n",
      "Image:D:\\TensorFlow Object Detection\\TFODCourse\\Tensorflow\\workspace\\images\\collectedimages\\i\\i.994080b8-ac5f-11ec-b67e-002b67686745.jpg -> Annotation:D:/TensorFlow Object Detection/TFODCourse/Tensorflow/workspace/images/collectedimages/i/i.994080b8-ac5f-11ec-b67e-002b67686745.xml\n",
      "Image:D:\\TensorFlow Object Detection\\TFODCourse\\Tensorflow\\workspace\\images\\collectedimages\\i\\i.9463537d-ac5f-11ec-a475-002b67686745.jpg -> Annotation:D:/TensorFlow Object Detection/TFODCourse/Tensorflow/workspace/images/collectedimages/i/i.9463537d-ac5f-11ec-a475-002b67686745.xml\n",
      "Image:D:\\TensorFlow Object Detection\\TFODCourse\\Tensorflow\\workspace\\images\\collectedimages\\i\\i.95994381-ac5f-11ec-99c5-002b67686745.jpg -> Annotation:D:/TensorFlow Object Detection/TFODCourse/Tensorflow/workspace/images/collectedimages/i/i.95994381-ac5f-11ec-99c5-002b67686745.xml\n",
      "Image:D:\\TensorFlow Object Detection\\TFODCourse\\Tensorflow\\workspace\\images\\collectedimages\\is\\is.3b06ea71-ac5f-11ec-92ca-002b67686745.jpg -> Annotation:D:/TensorFlow Object Detection/TFODCourse/Tensorflow/workspace/images/collectedimages/is/is.3b06ea71-ac5f-11ec-92ca-002b67686745.xml\n",
      "Image:D:\\TensorFlow Object Detection\\TFODCourse\\Tensorflow\\workspace\\images\\collectedimages\\is\\is.3c3d2c74-ac5f-11ec-b370-002b67686745.jpg -> Annotation:D:/TensorFlow Object Detection/TFODCourse/Tensorflow/workspace/images/collectedimages/is/is.3c3d2c74-ac5f-11ec-b370-002b67686745.xml\n",
      "Image:D:\\TensorFlow Object Detection\\TFODCourse\\Tensorflow\\workspace\\images\\collectedimages\\is\\is.3d722096-ac5f-11ec-bc9d-002b67686745.jpg -> Annotation:D:/TensorFlow Object Detection/TFODCourse/Tensorflow/workspace/images/collectedimages/is/is.3d722096-ac5f-11ec-bc9d-002b67686745.xml\n",
      "Image:D:\\TensorFlow Object Detection\\TFODCourse\\Tensorflow\\workspace\\images\\collectedimages\\is\\is.3ea8ed34-ac5f-11ec-94d5-002b67686745.jpg -> Annotation:D:/TensorFlow Object Detection/TFODCourse/Tensorflow/workspace/images/collectedimages/is/is.3ea8ed34-ac5f-11ec-94d5-002b67686745.xml\n",
      "Image:D:\\TensorFlow Object Detection\\TFODCourse\\Tensorflow\\workspace\\images\\collectedimages\\is\\is.39cfb8bf-ac5f-11ec-b383-002b67686745.jpg -> Annotation:D:/TensorFlow Object Detection/TFODCourse/Tensorflow/workspace/images/collectedimages/is/is.39cfb8bf-ac5f-11ec-b383-002b67686745.xml\n",
      "Image:D:\\TensorFlow Object Detection\\TFODCourse\\Tensorflow\\workspace\\images\\collectedimages\\is\\is.362c5db3-ac5f-11ec-9293-002b67686745.jpg -> Annotation:D:/TensorFlow Object Detection/TFODCourse/Tensorflow/workspace/images/collectedimages/is/is.362c5db3-ac5f-11ec-9293-002b67686745.xml\n",
      "Image:D:\\TensorFlow Object Detection\\TFODCourse\\Tensorflow\\workspace\\images\\collectedimages\\is\\is.3764f375-ac5f-11ec-bdc0-002b67686745.jpg -> Annotation:D:/TensorFlow Object Detection/TFODCourse/Tensorflow/workspace/images/collectedimages/is/is.3764f375-ac5f-11ec-bdc0-002b67686745.xml\n",
      "Image:D:\\TensorFlow Object Detection\\TFODCourse\\Tensorflow\\workspace\\images\\collectedimages\\is\\is.38991b67-ac5f-11ec-b7d5-002b67686745.jpg -> Annotation:D:/TensorFlow Object Detection/TFODCourse/Tensorflow/workspace/images/collectedimages/is/is.38991b67-ac5f-11ec-b7d5-002b67686745.xml\n",
      "Image:D:\\TensorFlow Object Detection\\TFODCourse\\Tensorflow\\workspace\\images\\collectedimages\\my\\my.6a242807-ac5f-11ec-a540-002b67686745.jpg -> Annotation:D:/TensorFlow Object Detection/TFODCourse/Tensorflow/workspace/images/collectedimages/my/my.6a242807-ac5f-11ec-a540-002b67686745.xml\n",
      "Image:D:\\TensorFlow Object Detection\\TFODCourse\\Tensorflow\\workspace\\images\\collectedimages\\my\\my.6b5a3224-ac5f-11ec-82ff-002b67686745.jpg -> Annotation:D:/TensorFlow Object Detection/TFODCourse/Tensorflow/workspace/images/collectedimages/my/my.6b5a3224-ac5f-11ec-82ff-002b67686745.xml\n",
      "Image:D:\\TensorFlow Object Detection\\TFODCourse\\Tensorflow\\workspace\\images\\collectedimages\\my\\my.6c91ef52-ac5f-11ec-b419-002b67686745.jpg -> Annotation:D:/TensorFlow Object Detection/TFODCourse/Tensorflow/workspace/images/collectedimages/my/my.6c91ef52-ac5f-11ec-b419-002b67686745.xml\n",
      "Image:D:\\TensorFlow Object Detection\\TFODCourse\\Tensorflow\\workspace\\images\\collectedimages\\my\\my.6dc72ea9-ac5f-11ec-bb9b-002b67686745.jpg -> Annotation:D:/TensorFlow Object Detection/TFODCourse/Tensorflow/workspace/images/collectedimages/my/my.6dc72ea9-ac5f-11ec-bb9b-002b67686745.xml\n",
      "Cancel creation.\n",
      "Image:D:\\TensorFlow Object Detection\\TFODCourse\\Tensorflow\\workspace\\images\\collectedimages\\my\\my.6efd7a77-ac5f-11ec-9bfc-002b67686745.jpg -> Annotation:D:/TensorFlow Object Detection/TFODCourse/Tensorflow/workspace/images/collectedimages/my/my.6efd7a77-ac5f-11ec-9bfc-002b67686745.xml\n",
      "Image:D:\\TensorFlow Object Detection\\TFODCourse\\Tensorflow\\workspace\\images\\collectedimages\\my\\my.67b573ac-ac5f-11ec-97bb-002b67686745.jpg -> Annotation:D:/TensorFlow Object Detection/TFODCourse/Tensorflow/workspace/images/collectedimages/my/my.67b573ac-ac5f-11ec-97bb-002b67686745.xml\n",
      "Image:D:\\TensorFlow Object Detection\\TFODCourse\\Tensorflow\\workspace\\images\\collectedimages\\my\\my.68ebbfa6-ac5f-11ec-80b4-002b67686745.jpg -> Annotation:D:/TensorFlow Object Detection/TFODCourse/Tensorflow/workspace/images/collectedimages/my/my.68ebbfa6-ac5f-11ec-80b4-002b67686745.xml\n",
      "Image:D:\\TensorFlow Object Detection\\TFODCourse\\Tensorflow\\workspace\\images\\collectedimages\\my\\my.654bee53-ac5f-11ec-bfc7-002b67686745.jpg -> Annotation:D:/TensorFlow Object Detection/TFODCourse/Tensorflow/workspace/images/collectedimages/my/my.654bee53-ac5f-11ec-bfc7-002b67686745.xml\n",
      "Cancel creation.\n",
      "Image:D:\\TensorFlow Object Detection\\TFODCourse\\Tensorflow\\workspace\\images\\collectedimages\\my\\my.6680c24f-ac5f-11ec-bda4-002b67686745.jpg -> Annotation:D:/TensorFlow Object Detection/TFODCourse/Tensorflow/workspace/images/collectedimages/my/my.6680c24f-ac5f-11ec-bda4-002b67686745.xml\n",
      "Image:D:\\TensorFlow Object Detection\\TFODCourse\\Tensorflow\\workspace\\images\\collectedimages\\my\\my.64133d22-ac5f-11ec-bda2-002b67686745.jpg -> Annotation:D:/TensorFlow Object Detection/TFODCourse/Tensorflow/workspace/images/collectedimages/my/my.64133d22-ac5f-11ec-bda2-002b67686745.xml\n",
      "Image:D:\\TensorFlow Object Detection\\TFODCourse\\Tensorflow\\workspace\\images\\collectedimages\\name\\name.5a0c4cb6-ac5f-11ec-91b1-002b67686745.jpg -> Annotation:D:/TensorFlow Object Detection/TFODCourse/Tensorflow/workspace/images/collectedimages/name/name.5a0c4cb6-ac5f-11ec-91b1-002b67686745.xml\n",
      "Image:D:\\TensorFlow Object Detection\\TFODCourse\\Tensorflow\\workspace\\images\\collectedimages\\name\\name.5b4106a6-ac5f-11ec-b02d-002b67686745.jpg -> Annotation:D:/TensorFlow Object Detection/TFODCourse/Tensorflow/workspace/images/collectedimages/name/name.5b4106a6-ac5f-11ec-b02d-002b67686745.xml\n",
      "Image:D:\\TensorFlow Object Detection\\TFODCourse\\Tensorflow\\workspace\\images\\collectedimages\\name\\name.5c763d60-ac5f-11ec-b409-002b67686745.jpg -> Annotation:D:/TensorFlow Object Detection/TFODCourse/Tensorflow/workspace/images/collectedimages/name/name.5c763d60-ac5f-11ec-b409-002b67686745.xml\n",
      "Image:D:\\TensorFlow Object Detection\\TFODCourse\\Tensorflow\\workspace\\images\\collectedimages\\name\\name.5dad7fe7-ac5f-11ec-a5ec-002b67686745.jpg -> Annotation:D:/TensorFlow Object Detection/TFODCourse/Tensorflow/workspace/images/collectedimages/name/name.5dad7fe7-ac5f-11ec-a5ec-002b67686745.xml\n",
      "Image:D:\\TensorFlow Object Detection\\TFODCourse\\Tensorflow\\workspace\\images\\collectedimages\\name\\name.5ee43fa1-ac5f-11ec-a91b-002b67686745.jpg -> Annotation:D:/TensorFlow Object Detection/TFODCourse/Tensorflow/workspace/images/collectedimages/name/name.5ee43fa1-ac5f-11ec-a91b-002b67686745.xml\n",
      "Image:D:\\TensorFlow Object Detection\\TFODCourse\\Tensorflow\\workspace\\images\\collectedimages\\name\\name.53fc201e-ac5f-11ec-9c9a-002b67686745.jpg -> Annotation:D:/TensorFlow Object Detection/TFODCourse/Tensorflow/workspace/images/collectedimages/name/name.53fc201e-ac5f-11ec-9c9a-002b67686745.xml\n",
      "Image:D:\\TensorFlow Object Detection\\TFODCourse\\Tensorflow\\workspace\\images\\collectedimages\\name\\name.57a1e49b-ac5f-11ec-a33f-002b67686745.jpg -> Annotation:D:/TensorFlow Object Detection/TFODCourse/Tensorflow/workspace/images/collectedimages/name/name.57a1e49b-ac5f-11ec-a33f-002b67686745.xml\n",
      "Image:D:\\TensorFlow Object Detection\\TFODCourse\\Tensorflow\\workspace\\images\\collectedimages\\name\\name.58d6755f-ac5f-11ec-94a5-002b67686745.jpg -> Annotation:D:/TensorFlow Object Detection/TFODCourse/Tensorflow/workspace/images/collectedimages/name/name.58d6755f-ac5f-11ec-94a5-002b67686745.xml\n",
      "Image:D:\\TensorFlow Object Detection\\TFODCourse\\Tensorflow\\workspace\\images\\collectedimages\\name\\name.5668e6fc-ac5f-11ec-92b5-002b67686745.jpg -> Annotation:D:/TensorFlow Object Detection/TFODCourse/Tensorflow/workspace/images/collectedimages/name/name.5668e6fc-ac5f-11ec-92b5-002b67686745.xml\n",
      "Image:D:\\TensorFlow Object Detection\\TFODCourse\\Tensorflow\\workspace\\images\\collectedimages\\name\\name.55332afc-ac5f-11ec-90e2-002b67686745.jpg -> Annotation:D:/TensorFlow Object Detection/TFODCourse/Tensorflow/workspace/images/collectedimages/name/name.55332afc-ac5f-11ec-90e2-002b67686745.xml\n",
      "Image:D:\\TensorFlow Object Detection\\TFODCourse\\Tensorflow\\workspace\\images\\collectedimages\\v\\v.8a5d323b-ac5f-11ec-9891-002b67686745.jpg -> Annotation:D:/TensorFlow Object Detection/TFODCourse/Tensorflow/workspace/images/collectedimages/v/v.8a5d323b-ac5f-11ec-9891-002b67686745.xml\n",
      "Image:D:\\TensorFlow Object Detection\\TFODCourse\\Tensorflow\\workspace\\images\\collectedimages\\v\\v.8b91a91b-ac5f-11ec-89d3-002b67686745.jpg -> Annotation:D:/TensorFlow Object Detection/TFODCourse/Tensorflow/workspace/images/collectedimages/v/v.8b91a91b-ac5f-11ec-89d3-002b67686745.xml\n",
      "Image:D:\\TensorFlow Object Detection\\TFODCourse\\Tensorflow\\workspace\\images\\collectedimages\\v\\v.8cc76549-ac5f-11ec-bc6c-002b67686745.jpg -> Annotation:D:/TensorFlow Object Detection/TFODCourse/Tensorflow/workspace/images/collectedimages/v/v.8cc76549-ac5f-11ec-bc6c-002b67686745.xml\n",
      "Image:D:\\TensorFlow Object Detection\\TFODCourse\\Tensorflow\\workspace\\images\\collectedimages\\v\\v.8dfb8a6e-ac5f-11ec-a8c5-002b67686745.jpg -> Annotation:D:/TensorFlow Object Detection/TFODCourse/Tensorflow/workspace/images/collectedimages/v/v.8dfb8a6e-ac5f-11ec-a8c5-002b67686745.xml\n",
      "Image:D:\\TensorFlow Object Detection\\TFODCourse\\Tensorflow\\workspace\\images\\collectedimages\\v\\v.8f374dba-ac5f-11ec-ac63-002b67686745.jpg -> Annotation:D:/TensorFlow Object Detection/TFODCourse/Tensorflow/workspace/images/collectedimages/v/v.8f374dba-ac5f-11ec-ac63-002b67686745.xml\n",
      "Image:D:\\TensorFlow Object Detection\\TFODCourse\\Tensorflow\\workspace\\images\\collectedimages\\v\\v.86ba03cc-ac5f-11ec-b2b9-002b67686745.jpg -> Annotation:D:/TensorFlow Object Detection/TFODCourse/Tensorflow/workspace/images/collectedimages/v/v.86ba03cc-ac5f-11ec-b2b9-002b67686745.xml\n",
      "Image:D:\\TensorFlow Object Detection\\TFODCourse\\Tensorflow\\workspace\\images\\collectedimages\\v\\v.87f036d4-ac5f-11ec-a4fd-002b67686745.jpg -> Annotation:D:/TensorFlow Object Detection/TFODCourse/Tensorflow/workspace/images/collectedimages/v/v.87f036d4-ac5f-11ec-a4fd-002b67686745.xml\n",
      "Image:D:\\TensorFlow Object Detection\\TFODCourse\\Tensorflow\\workspace\\images\\collectedimages\\v\\v.844eee16-ac5f-11ec-ab51-002b67686745.jpg -> Annotation:D:/TensorFlow Object Detection/TFODCourse/Tensorflow/workspace/images/collectedimages/v/v.844eee16-ac5f-11ec-ab51-002b67686745.xml\n",
      "Image:D:\\TensorFlow Object Detection\\TFODCourse\\Tensorflow\\workspace\\images\\collectedimages\\v\\v.8585e7f6-ac5f-11ec-b382-002b67686745.jpg -> Annotation:D:/TensorFlow Object Detection/TFODCourse/Tensorflow/workspace/images/collectedimages/v/v.8585e7f6-ac5f-11ec-b382-002b67686745.xml\n",
      "Image:D:\\TensorFlow Object Detection\\TFODCourse\\Tensorflow\\workspace\\images\\collectedimages\\v\\v.8923e2cc-ac5f-11ec-b6c7-002b67686745.jpg -> Annotation:D:/TensorFlow Object Detection/TFODCourse/Tensorflow/workspace/images/collectedimages/v/v.8923e2cc-ac5f-11ec-b6c7-002b67686745.xml\n",
      "Image:D:\\TensorFlow Object Detection\\TFODCourse\\Tensorflow\\workspace\\images\\collectedimages\\what\\what.2ae498af-ac5f-11ec-83be-002b67686745.jpg -> Annotation:D:/TensorFlow Object Detection/TFODCourse/Tensorflow/workspace/images/collectedimages/what/what.2ae498af-ac5f-11ec-83be-002b67686745.xml\n",
      "Image:D:\\TensorFlow Object Detection\\TFODCourse\\Tensorflow\\workspace\\images\\collectedimages\\what\\what.2c1b8741-ac5f-11ec-8dd0-002b67686745.jpg -> Annotation:D:/TensorFlow Object Detection/TFODCourse/Tensorflow/workspace/images/collectedimages/what/what.2c1b8741-ac5f-11ec-8dd0-002b67686745.xml\n",
      "Image:D:\\TensorFlow Object Detection\\TFODCourse\\Tensorflow\\workspace\\images\\collectedimages\\what\\what.2d5232ff-ac5f-11ec-b5f6-002b67686745.jpg -> Annotation:D:/TensorFlow Object Detection/TFODCourse/Tensorflow/workspace/images/collectedimages/what/what.2d5232ff-ac5f-11ec-b5f6-002b67686745.xml\n",
      "Image:D:\\TensorFlow Object Detection\\TFODCourse\\Tensorflow\\workspace\\images\\collectedimages\\what\\what.2e9036c4-ac5f-11ec-bb11-002b67686745.jpg -> Annotation:D:/TensorFlow Object Detection/TFODCourse/Tensorflow/workspace/images/collectedimages/what/what.2e9036c4-ac5f-11ec-bb11-002b67686745.xml\n",
      "Image:D:\\TensorFlow Object Detection\\TFODCourse\\Tensorflow\\workspace\\images\\collectedimages\\what\\what.23a2381d-ac5f-11ec-9d55-002b67686745.jpg -> Annotation:D:/TensorFlow Object Detection/TFODCourse/Tensorflow/workspace/images/collectedimages/what/what.23a2381d-ac5f-11ec-9d55-002b67686745.xml\n",
      "Image:D:\\TensorFlow Object Detection\\TFODCourse\\Tensorflow\\workspace\\images\\collectedimages\\what\\what.24d91205-ac5f-11ec-b12f-002b67686745.jpg -> Annotation:D:/TensorFlow Object Detection/TFODCourse/Tensorflow/workspace/images/collectedimages/what/what.24d91205-ac5f-11ec-b12f-002b67686745.xml\n",
      "Image:D:\\TensorFlow Object Detection\\TFODCourse\\Tensorflow\\workspace\\images\\collectedimages\\what\\what.29afa3b2-ac5f-11ec-8607-002b67686745.jpg -> Annotation:D:/TensorFlow Object Detection/TFODCourse/Tensorflow/workspace/images/collectedimages/what/what.29afa3b2-ac5f-11ec-8607-002b67686745.xml\n",
      "Image:D:\\TensorFlow Object Detection\\TFODCourse\\Tensorflow\\workspace\\images\\collectedimages\\what\\what.260f0018-ac5f-11ec-bdcd-002b67686745.jpg -> Annotation:D:/TensorFlow Object Detection/TFODCourse/Tensorflow/workspace/images/collectedimages/what/what.260f0018-ac5f-11ec-bdcd-002b67686745.xml\n",
      "Image:D:\\TensorFlow Object Detection\\TFODCourse\\Tensorflow\\workspace\\images\\collectedimages\\what\\what.27452e7d-ac5f-11ec-960a-002b67686745.jpg -> Annotation:D:/TensorFlow Object Detection/TFODCourse/Tensorflow/workspace/images/collectedimages/what/what.27452e7d-ac5f-11ec-960a-002b67686745.xml\n",
      "Image:D:\\TensorFlow Object Detection\\TFODCourse\\Tensorflow\\workspace\\images\\collectedimages\\what\\what.28798d97-ac5f-11ec-bd8c-002b67686745.jpg -> Annotation:D:/TensorFlow Object Detection/TFODCourse/Tensorflow/workspace/images/collectedimages/what/what.28798d97-ac5f-11ec-bd8c-002b67686745.xml\n",
      "Image:D:\\TensorFlow Object Detection\\TFODCourse\\Tensorflow\\workspace\\images\\collectedimages\\your\\your.4b292cfb-ac5f-11ec-b703-002b67686745.jpg -> Annotation:D:/TensorFlow Object Detection/TFODCourse/Tensorflow/workspace/images/collectedimages/your/your.4b292cfb-ac5f-11ec-b703-002b67686745.xml\n",
      "Image:D:\\TensorFlow Object Detection\\TFODCourse\\Tensorflow\\workspace\\images\\collectedimages\\your\\your.4c5d9bdc-ac5f-11ec-b844-002b67686745.jpg -> Annotation:D:/TensorFlow Object Detection/TFODCourse/Tensorflow/workspace/images/collectedimages/your/your.4c5d9bdc-ac5f-11ec-b844-002b67686745.xml\n",
      "Image:D:\\TensorFlow Object Detection\\TFODCourse\\Tensorflow\\workspace\\images\\collectedimages\\your\\your.4d91d1d1-ac5f-11ec-89c3-002b67686745.jpg -> Annotation:D:/TensorFlow Object Detection/TFODCourse/Tensorflow/workspace/images/collectedimages/your/your.4d91d1d1-ac5f-11ec-89c3-002b67686745.xml\n",
      "Image:D:\\TensorFlow Object Detection\\TFODCourse\\Tensorflow\\workspace\\images\\collectedimages\\your\\your.4ec81f6a-ac5f-11ec-958a-002b67686745.jpg -> Annotation:D:/TensorFlow Object Detection/TFODCourse/Tensorflow/workspace/images/collectedimages/your/your.4ec81f6a-ac5f-11ec-958a-002b67686745.xml\n",
      "Image:D:\\TensorFlow Object Detection\\TFODCourse\\Tensorflow\\workspace\\images\\collectedimages\\your\\your.43d221ec-ac5f-11ec-9de8-002b67686745.jpg -> Annotation:D:/TensorFlow Object Detection/TFODCourse/Tensorflow/workspace/images/collectedimages/your/your.43d221ec-ac5f-11ec-9de8-002b67686745.xml\n",
      "Image:D:\\TensorFlow Object Detection\\TFODCourse\\Tensorflow\\workspace\\images\\collectedimages\\your\\your.48ace225-ac5f-11ec-b985-002b67686745.jpg -> Annotation:D:/TensorFlow Object Detection/TFODCourse/Tensorflow/workspace/images/collectedimages/your/your.48ace225-ac5f-11ec-b985-002b67686745.xml\n",
      "Image:D:\\TensorFlow Object Detection\\TFODCourse\\Tensorflow\\workspace\\images\\collectedimages\\your\\your.49f12d4e-ac5f-11ec-b6a1-002b67686745.jpg -> Annotation:D:/TensorFlow Object Detection/TFODCourse/Tensorflow/workspace/images/collectedimages/your/your.49f12d4e-ac5f-11ec-b6a1-002b67686745.xml\n",
      "Image:D:\\TensorFlow Object Detection\\TFODCourse\\Tensorflow\\workspace\\images\\collectedimages\\your\\your.4776e7f1-ac5f-11ec-8891-002b67686745.jpg -> Annotation:D:/TensorFlow Object Detection/TFODCourse/Tensorflow/workspace/images/collectedimages/your/your.4776e7f1-ac5f-11ec-8891-002b67686745.xml\n",
      "Image:D:\\TensorFlow Object Detection\\TFODCourse\\Tensorflow\\workspace\\images\\collectedimages\\your\\your.464131f0-ac5f-11ec-bb93-002b67686745.jpg -> Annotation:D:/TensorFlow Object Detection/TFODCourse/Tensorflow/workspace/images/collectedimages/your/your.464131f0-ac5f-11ec-bb93-002b67686745.xml\n"
     ]
    }
   ],
   "source": [
    "!cd {LABELIMG_PATH} && python labelImg.py"
   ]
  },
  {
   "cell_type": "markdown",
   "metadata": {},
   "source": [
    "# 6. Move them into a Training and Testing Partition"
   ]
  },
  {
   "cell_type": "markdown",
   "metadata": {},
   "source": [
    "# OPTIONAL - 7. Compress them for Colab Training"
   ]
  },
  {
   "cell_type": "code",
   "execution_count": null,
   "metadata": {},
   "outputs": [],
   "source": [
    "TRAIN_PATH = os.path.join('Tensorflow', 'workspace', 'images', 'train')\n",
    "TEST_PATH = os.path.join('Tensorflow', 'workspace', 'images', 'test')\n",
    "ARCHIVE_PATH = os.path.join('Tensorflow', 'workspace', 'images', 'archive.tar.gz')"
   ]
  },
  {
   "cell_type": "code",
   "execution_count": null,
   "metadata": {},
   "outputs": [],
   "source": [
    "!tar -czf {ARCHIVE_PATH} {TRAIN_PATH} {TEST_PATH}"
   ]
  },
  {
   "cell_type": "code",
   "execution_count": null,
   "metadata": {},
   "outputs": [],
   "source": []
  }
 ],
 "metadata": {
  "kernelspec": {
   "display_name": "tfod",
   "language": "python",
   "name": "tfod"
  },
  "language_info": {
   "codemirror_mode": {
    "name": "ipython",
    "version": 3
   },
   "file_extension": ".py",
   "mimetype": "text/x-python",
   "name": "python",
   "nbconvert_exporter": "python",
   "pygments_lexer": "ipython3",
   "version": "3.9.7"
  }
 },
 "nbformat": 4,
 "nbformat_minor": 2
}
